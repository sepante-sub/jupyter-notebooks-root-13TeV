{
 "cells": [
  {
   "cell_type": "markdown",
   "metadata": {},
   "source": [
    "<CENTER><img src=\"http://opendata.atlas.cern/DataAndTools/pictures/ATLASOD.gif\" style=\"width:50%\"></CENTER>"
   ]
  },
  {
   "cell_type": "markdown",
   "metadata": {},
   "source": [
    "<CENTER><h1>Searching for the Higgs boson in the H&#8594;&gamma;&gamma; channel</h1></CENTER>\n",
    "## Python notebook example"
   ]
  },
  {
   "cell_type": "markdown",
   "metadata": {},
   "source": [
    "**Introduction**\n",
    "Let's take a current ATLAS Open Data sample and create a histogram:"
   ]
  },
  {
   "cell_type": "code",
   "execution_count": 1,
   "metadata": {
    "collapsed": false
   },
   "outputs": [
    {
     "data": {
      "application/javascript": [
       "require(['codemirror/mode/clike/clike'], function(Clike) { console.log('ROOTaaS - C++ CodeMirror module loaded'); });"
      ]
     },
     "metadata": {},
     "output_type": "display_data"
    },
    {
     "data": {
      "application/javascript": [
       "IPython.CodeCell.config_defaults.highlight_modes['magic_text/x-c++src'] = {'reg':[/^%%cpp/]};"
      ]
     },
     "metadata": {},
     "output_type": "display_data"
    },
    {
     "name": "stdout",
     "output_type": "stream",
     "text": [
      "Welcome to ROOTaaS 6.06/08\n"
     ]
    }
   ],
   "source": [
    "import ROOT\n",
    "from ROOT import TMath\n",
    "import time\n",
    "from ROOT import TCanvas, TFile, TPaveText, TGraphErrors, TPad, TF1, TH1F\n",
    "from ROOT import gROOT, gBenchmark\n",
    "from array import array\n",
    "import numpy as np"
   ]
  },
  {
   "cell_type": "code",
   "execution_count": 2,
   "metadata": {
    "collapsed": false
   },
   "outputs": [],
   "source": [
    "start = time.time()"
   ]
  },
  {
   "cell_type": "markdown",
   "metadata": {},
   "source": [
    "Because we would like to use more than one ROOT input file, the best option is to use a TChain object. This allows to \"chain\" several samples into a single structure that we can later loop over"
   ]
  },
  {
   "cell_type": "code",
   "execution_count": 3,
   "metadata": {
    "collapsed": false,
    "scrolled": false
   },
   "outputs": [
    {
     "name": "stderr",
     "output_type": "stream",
     "text": [
      "TClass::Init:0: RuntimeWarning: no dictionary for class ROOT::TIOFeatures is available\n"
     ]
    },
    {
     "name": "stdout",
     "output_type": "stream",
     "text": [
      "0\n",
      "50000\n",
      "100000\n",
      "150000\n",
      "200000\n",
      "250000\n",
      "300000\n",
      "350000\n",
      "400000\n",
      "450000\n",
      "500000\n",
      "550000\n",
      "600000\n",
      "650000\n",
      "700000\n",
      "750000\n",
      "800000\n",
      "850000\n",
      "900000\n",
      "950000\n",
      "1000000\n",
      "1050000\n",
      "1100000\n",
      "1150000\n",
      "1200000\n",
      "1250000\n",
      "1300000\n",
      "1350000\n",
      "1400000\n",
      "1450000\n",
      "1500000\n",
      "1550000\n",
      "1600000\n",
      "1650000\n",
      "1700000\n",
      "1750000\n",
      "1800000\n",
      "1850000\n",
      "1900000\n",
      "1950000\n",
      "2000000\n",
      "2050000\n",
      "2100000\n",
      "2150000\n",
      "2200000\n",
      "2250000\n",
      "2300000\n",
      "2350000\n",
      "2400000\n",
      "2450000\n",
      "2500000\n",
      "2550000\n",
      "2600000\n",
      "2650000\n",
      "2700000\n",
      "2750000\n",
      "2800000\n",
      "2850000\n",
      "2900000\n",
      "2950000\n",
      "3000000\n",
      "3050000\n",
      "3100000\n",
      "3150000\n",
      "3200000\n",
      "3250000\n",
      "3300000\n"
     ]
    },
    {
     "ename": "RuntimeError",
     "evalue": "TTree I/O error",
     "output_type": "error",
     "traceback": [
      "\u001b[0;31m\u001b[0m",
      "\u001b[0;31mRuntimeError\u001b[0mTraceback (most recent call last)",
      "\u001b[0;32m<ipython-input-3-f2e064096910>\u001b[0m in \u001b[0;36m<module>\u001b[0;34m()\u001b[0m\n\u001b[1;32m     25\u001b[0m \u001b[0mPhoton_2\u001b[0m \u001b[0;34m=\u001b[0m \u001b[0mROOT\u001b[0m\u001b[0;34m.\u001b[0m\u001b[0mTLorentzVector\u001b[0m\u001b[0;34m(\u001b[0m\u001b[0;34m)\u001b[0m\u001b[0;34m\u001b[0m\u001b[0m\n\u001b[1;32m     26\u001b[0m \u001b[0;31m#n = 0\u001b[0m\u001b[0;34m\u001b[0m\u001b[0;34m\u001b[0m\u001b[0m\n\u001b[0;32m---> 27\u001b[0;31m \u001b[0;32mfor\u001b[0m \u001b[0mn\u001b[0m\u001b[0;34m,\u001b[0m \u001b[0mevent\u001b[0m \u001b[0;32min\u001b[0m \u001b[0menumerate\u001b[0m\u001b[0;34m(\u001b[0m\u001b[0mtree\u001b[0m\u001b[0;34m)\u001b[0m\u001b[0;34m:\u001b[0m\u001b[0;34m\u001b[0m\u001b[0m\n\u001b[0m\u001b[1;32m     28\u001b[0m     \u001b[0;31m#####n += 1\u001b[0m\u001b[0;34m\u001b[0m\u001b[0;34m\u001b[0m\u001b[0m\n\u001b[1;32m     29\u001b[0m     \u001b[0;31m## printing the evolution in number of events\u001b[0m\u001b[0;34m\u001b[0m\u001b[0;34m\u001b[0m\u001b[0m\n",
      "\u001b[0;32m/home/student/Root/root/lib/ROOT.pyc\u001b[0m in \u001b[0;36m_TTree__iter__\u001b[0;34m(self)\u001b[0m\n\u001b[1;32m    221\u001b[0m \u001b[0;34m\u001b[0m\u001b[0m\n\u001b[1;32m    222\u001b[0m    \u001b[0;32mif\u001b[0m \u001b[0mbytes_read\u001b[0m \u001b[0;34m==\u001b[0m \u001b[0;34m-\u001b[0m\u001b[0;36m1\u001b[0m\u001b[0;34m:\u001b[0m\u001b[0;34m\u001b[0m\u001b[0m\n\u001b[0;32m--> 223\u001b[0;31m       \u001b[0;32mraise\u001b[0m \u001b[0mRuntimeError\u001b[0m\u001b[0;34m(\u001b[0m \u001b[0;34m\"TTree I/O error\"\u001b[0m \u001b[0;34m)\u001b[0m\u001b[0;34m\u001b[0m\u001b[0m\n\u001b[0m\u001b[1;32m    224\u001b[0m \u001b[0;34m\u001b[0m\u001b[0m\n\u001b[1;32m    225\u001b[0m \u001b[0m_root\u001b[0m\u001b[0;34m.\u001b[0m\u001b[0mCreateScopeProxy\u001b[0m\u001b[0;34m(\u001b[0m \u001b[0;34m\"TTree\"\u001b[0m \u001b[0;34m)\u001b[0m\u001b[0;34m.\u001b[0m\u001b[0m__iter__\u001b[0m    \u001b[0;34m=\u001b[0m \u001b[0m_TTree__iter__\u001b[0m\u001b[0;34m\u001b[0m\u001b[0m\n",
      "\u001b[0;31mRuntimeError\u001b[0m: TTree I/O error"
     ]
    },
    {
     "name": "stderr",
     "output_type": "stream",
     "text": [
      "Error in <TWebFile::GetFromWeb10>: expected -733469519 bytes, got 0\r\n",
      "Error in <TBranchElement::GetBasket>: File: http://opendata.atlas.cern/release/samples/2019/GamGam/Data/data-All-yy.root at byte:711403906, branch:jet_pt_syst, entry:3344563, badread=1, nerrors=1, basketnumber=2413\r\n"
     ]
    }
   ],
   "source": [
    "canvas = ROOT.TCanvas(\"Canvas\",\"cz\",1000,1000)\n",
    "canvas.cd()\n",
    "\n",
    "n_bins = 300\n",
    "\n",
    "pad1 = TPad( 'pad1', 'The pad with the histogram', 0.03, 0, 0.97, 0.25, 21 )\n",
    "pad2 = TPad( 'pad2', 'The pad with the function',  0.03, 0.30, 0.97, 0.55, 21 )\n",
    "pad3 = TPad( 'pad3', 'The pad with the histogram', 0.03, 0.60, 0.97, 0.85, 21 )\n",
    "\n",
    "pad1.Draw()\n",
    "pad2.Draw()\n",
    "pad3.Draw()\n",
    "\n",
    "pad3.cd()\n",
    "\n",
    "f = ROOT.TFile.Open(\"http://opendata.atlas.cern/release/samples/2019/GamGam/Data/data-All-yy.root\")\n",
    "\n",
    "\n",
    "tree = f.Get(\"mini\")\n",
    "hist = ROOT.TH1F(\"h_M_Hyy\",\"Invariant Mass of di-photon system ; Invariant Mass m_{yy} [GeV] ; events\",n_bins,80,280)\n",
    "\n",
    "n_read = 10000000\n",
    "\n",
    "Photon_1 = ROOT.TLorentzVector()\n",
    "Photon_2 = ROOT.TLorentzVector()\n",
    "#n = 0\n",
    "for n, event in enumerate(tree):\n",
    "    #####n += 1\n",
    "    ## printing the evolution in number of events\n",
    "    #if(n % (n_read / 500) == 0):\n",
    "    if(n % 50000 == 0):\n",
    "        print(n)\n",
    "    if( n > n_read ):\n",
    "        break\n",
    "    ## checking the trigger    \n",
    "    if(tree.trigP):\n",
    "        goodphoton_index = [0]*5\n",
    "        goodphoton_n = 0\n",
    "        photon_index = 0\n",
    "        ##            \n",
    "        j=0\n",
    "        ## looping the photons per event\n",
    "        for j in range(tree.photon_n):\n",
    "            ##\n",
    "            if(tree.photon_isTightID[j]):\n",
    "                ##\n",
    "                if(tree.photon_pt[j] > 25000 and (TMath.Abs(tree.photon_eta[j]) < 2.37)\\\n",
    "                   and (TMath.Abs(tree.photon_eta[j]) < 1.37 or TMath.Abs(tree.photon_eta[j]) > 1.52)):\n",
    "                    ##\n",
    "                    goodphoton_n += 1  #count\n",
    "                    goodphoton_index[photon_index]=j\n",
    "                    photon_index += 1\n",
    "                ## end Pt and eta pre-selection\n",
    "            ## end on request of quality of the photon\n",
    "        ## end looping photons in the current event\n",
    "            \n",
    "        ## Using the two selected photons\n",
    "        if(goodphoton_n==2):\n",
    "            ##\n",
    "            goodphoton1_index = goodphoton_index[0]\n",
    "            goodphoton2_index = goodphoton_index[1]\n",
    "            ## Getting couple of photons with good isolation \n",
    "            if((tree.photon_ptcone30[goodphoton1_index]/tree.photon_pt[goodphoton1_index] < 0.065)\\\n",
    "               and (tree.photon_etcone20[goodphoton1_index] / tree.photon_pt[goodphoton1_index] < 0.065)):\n",
    "                ##\n",
    "                if((tree.photon_ptcone30[goodphoton2_index]/tree.photon_pt[goodphoton2_index] < 0.065)\\\n",
    "                   and (tree.photon_etcone20[goodphoton2_index] / tree.photon_pt[goodphoton2_index] < 0.065)):\n",
    "                    ##\n",
    "                    Photon_1.SetPtEtaPhiE(tree.photon_pt[goodphoton1_index]/1000., tree.photon_eta[goodphoton1_index],\\\n",
    "                                          tree.photon_phi[goodphoton1_index],tree.photon_E[goodphoton1_index]/1000.)\n",
    "                    Photon_2.SetPtEtaPhiE(tree.photon_pt[goodphoton2_index]/1000., tree.photon_eta[goodphoton2_index],\\\n",
    "                                          tree.photon_phi[goodphoton2_index],tree.photon_E[goodphoton2_index]/1000.)\n",
    "                    ## Adding the two TLorentz vectors\n",
    "                    Photon_12 = Photon_1 + Photon_2\n",
    "                    ## Filling with the mass of the gamma-gamma system\n",
    "                    hist.Fill(Photon_12.M())\n",
    "                ## end isolation photon #2\n",
    "            ## end isolation photon #1\n",
    "        ## end 2-good photons\n",
    "    ## end of trigger request\n",
    "## End loop in the events\n",
    "#hist.Draw()\n",
    "#canvas.Draw()\n",
    "\n",
    "\n"
   ]
  },
  {
   "cell_type": "code",
   "execution_count": 4,
   "metadata": {
    "collapsed": false
   },
   "outputs": [
    {
     "name": "stdout",
     "output_type": "stream",
     "text": [
      "0\n",
      "100000\n",
      "200000\n",
      "300000\n",
      "400000\n",
      "500000\n",
      "600000\n",
      "700000\n",
      "800000\n",
      "900000\n",
      "1000000\n"
     ]
    }
   ],
   "source": [
    "\n",
    "md_data = ROOT.TFile.Open(\"http://opendata.atlas.cern/release/samples/2019/GamGam/MC/mc15_13TeV.343981.PwPy8EG_NNLOPS_nnlo_30_ggH125_gamgam.gamgam_raw.root\")\n",
    "tree2 = md_data.Get(\"mini\")\n",
    "hist2 = ROOT.TH1F(\"h_M_Hyy\",\"Invariant Mass of di-photon system ; Invariant Mass m_{yy} [GeV] ; events\",n_bins,80,280)\n",
    "\n",
    "\n",
    "Photon_1 = ROOT.TLorentzVector()\n",
    "Photon_2 = ROOT.TLorentzVector()\n",
    "#n = 0\n",
    "for n, event in enumerate(tree2):\n",
    "    #####n += 1\n",
    "    ## printing the evolution in number of events\n",
    "    #if(n % (n_read / 500) == 0):\n",
    "    if(n % 100000 == 0):\n",
    "        print(n)\n",
    "    if( n > n_read ):\n",
    "        break\n",
    "    ## checking the trigger    \n",
    "    if(tree2.trigP):\n",
    "        goodphoton_index = [0]*5\n",
    "        goodphoton_n = 0\n",
    "        photon_index = 0\n",
    "        ##            \n",
    "        j=0\n",
    "        ## looping the photons per event\n",
    "        for j in range(tree2.photon_n):\n",
    "            ##\n",
    "            if(tree2.photon_isTightID[j]):\n",
    "                ##\n",
    "                if(tree2.photon_pt[j] > 25000 and (TMath.Abs(tree2.photon_eta[j]) < 2.37)\\\n",
    "                   and (TMath.Abs(tree2.photon_eta[j]) < 1.37 or TMath.Abs(tree2.photon_eta[j]) > 1.52)):\n",
    "                    ##\n",
    "                    goodphoton_n += 1  #count\n",
    "                    goodphoton_index[photon_index]=j\n",
    "                    photon_index += 1\n",
    "                ## end Pt and eta pre-selection\n",
    "            ## end on request of quality of the photon\n",
    "        ## end looping photons in the current event\n",
    "            \n",
    "        ## Using the two selected photons\n",
    "        if(goodphoton_n==2):\n",
    "            ##\n",
    "            goodphoton1_index = goodphoton_index[0]\n",
    "            goodphoton2_index = goodphoton_index[1]\n",
    "            ## Getting couple of photons with good isolation \n",
    "            if((tree2.photon_ptcone30[goodphoton1_index]/tree2.photon_pt[goodphoton1_index] < 0.065)\\\n",
    "               and (tree2.photon_etcone20[goodphoton1_index] / tree2.photon_pt[goodphoton1_index] < 0.065)):\n",
    "                ##\n",
    "                if((tree2.photon_ptcone30[goodphoton2_index]/tree2.photon_pt[goodphoton2_index] < 0.065)\\\n",
    "                   and (tree2.photon_etcone20[goodphoton2_index] / tree2.photon_pt[goodphoton2_index] < 0.065)):\n",
    "                    ##\n",
    "                    Photon_1.SetPtEtaPhiE(tree2.photon_pt[goodphoton1_index]/1000., tree2.photon_eta[goodphoton1_index],\\\n",
    "                                          tree2.photon_phi[goodphoton1_index],tree2.photon_E[goodphoton1_index]/1000.)\n",
    "                    Photon_2.SetPtEtaPhiE(tree2.photon_pt[goodphoton2_index]/1000., tree2.photon_eta[goodphoton2_index],\\\n",
    "                                          tree2.photon_phi[goodphoton2_index],tree2.photon_E[goodphoton2_index]/1000.)\n",
    "                    ## Adding the two TLorentz vectors\n",
    "                    Photon_12 = Photon_1 + Photon_2\n",
    "                    ## Filling with the mass of the gamma-gamma system\n",
    "                    hist2.Fill(Photon_12.M())\n",
    "                ## end isolation photon #2\n",
    "            ## end isolation photon #1\n",
    "        ## end 2-good photons\n",
    "    ## end of trigger request\n",
    "## End loop in the events\n",
    "\n",
    "#canvas.Draw()\n"
   ]
  },
  {
   "cell_type": "markdown",
   "metadata": {},
   "source": [
    "#### Final plot"
   ]
  },
  {
   "cell_type": "code",
   "execution_count": 38,
   "metadata": {
    "collapsed": false,
    "scrolled": true
   },
   "outputs": [
    {
     "name": "stderr",
     "output_type": "stream",
     "text": [
      "TWebFile::Append:0: RuntimeWarning: Replacing existing TH1: net (Potential memory leak).\n"
     ]
    },
    {
     "data": {
      "image/png": "[encoded data removed]",
      "text/plain": [
       "<IPython.core.display.Image object>"
      ]
     },
     "metadata": {},
     "output_type": "display_data"
    },
    {
     "name": "stdout",
     "output_type": "stream",
     "text": [
      "\r\n",
      "****************************************\r\n",
      "Minimizer is Linear\r\n",
      "Chi2                      =      48.4019\r\n",
      "NDf                       =           40\r\n",
      "p0                        =      509.957   +/-   221794      \r\n",
      "p1                        =      168.156   +/-   7116.56     \r\n",
      "p2                        =     -3.62622   +/-   85.4708     \r\n",
      "p3                        =    0.0266208   +/-   0.455391    \r\n",
      "p4                        =  -6.6818e-05   +/-   0.00090822  \r\n"
     ]
    }
   ],
   "source": [
    "specific_range = (110,  140)\n",
    "degree = 4\n",
    "g1 = TF1( 'g1', 'pol'+str(degree),  specific_range[0],  specific_range[1] )\n",
    "#g1 = TF1( 'g1', 'exp',  specific_range[0],  specific_range[1] )\n",
    "\n",
    "\n",
    "\n",
    "hist.Fit( g1, 'R' )\n",
    "\n",
    "g1.GetParameters()\n",
    "\n",
    "\n",
    "\n",
    "hist.SetAxisRange(specific_range[0],  specific_range[1])\n",
    "\n",
    "specific_range = (110,  140)\n",
    "\n",
    "pad2.cd()\n",
    "\n",
    "params = np.zeros(degree + 1)\n",
    "\n",
    "for i in range(degree + 1):\n",
    "    params[i] = g1.GetParameters()[i]\n",
    "\n",
    "def fitFunc(x):\n",
    "    \n",
    "    return np.poly1d(params[::-1])(x)\n",
    "\n",
    "net = TH1F(\"net\",\"subtracted\",hist.GetNbinsX(),80,280)\n",
    "for i in range(1,hist.GetNbinsX()+1):\n",
    "    x=hist.GetBinCenter(i)\n",
    "    y=fitFunc(x)    \n",
    "    net.SetBinContent(i,hist.GetBinContent(i)-y)\n",
    "    #print(hist.GetBinContent(i)-y)\n",
    "    #print(hist.GetBinContent(i)-y)\n",
    "    #net.SetBinContent(1,1)\n",
    "net.SetAxisRange(specific_range[0],  specific_range[1])\n",
    "#net.Draw('E')\n",
    "hist2.SetAxisRange(specific_range[0],  specific_range[1])\n",
    "\n",
    "\n",
    "\n",
    "pad2.cd()\n",
    "net.Draw('E')\n",
    "#hist.Draw()\n",
    "\n",
    "pad1.cd()\n",
    "hist.Draw()\n",
    "\n",
    "pad3.cd()\n",
    "hist2.Draw()\n",
    "\n",
    "canvas.Draw()\n",
    "\n"
   ]
  },
  {
   "cell_type": "code",
   "execution_count": 26,
   "metadata": {
    "collapsed": false
   },
   "outputs": [
    {
     "data": {
      "text/plain": [
       "array([ -5.13891025e+06,   2.51089729e+05,  -5.08790605e+03,\n",
       "         5.47511881e+01,  -3.30058159e-01,   1.05692919e-03,\n",
       "        -1.40468472e-06])"
      ]
     },
     "execution_count": 26,
     "metadata": {},
     "output_type": "execute_result"
    }
   ],
   "source": [
    "params"
   ]
  },
  {
   "cell_type": "code",
   "execution_count": 92,
   "metadata": {
    "collapsed": false
   },
   "outputs": [
    {
     "data": {
      "text/plain": [
       "array([  1.09818413e+04,  -8.88045863e+01,   1.81452729e-01])"
      ]
     },
     "execution_count": 92,
     "metadata": {},
     "output_type": "execute_result"
    }
   ],
   "source": [
    "params"
   ]
  },
  {
   "cell_type": "code",
   "execution_count": 35,
   "metadata": {
    "collapsed": false
   },
   "outputs": [
    {
     "data": {
      "text/plain": [
       "7798448L"
      ]
     },
     "execution_count": 35,
     "metadata": {},
     "output_type": "execute_result"
    }
   ],
   "source": [
    "tree.GetEntries()"
   ]
  },
  {
   "cell_type": "code",
   "execution_count": 91,
   "metadata": {
    "collapsed": false
   },
   "outputs": [
    {
     "data": {
      "text/plain": [
       "array([  1.09818413e+04,  -8.88045863e+01,   1.81452729e-01])"
      ]
     },
     "execution_count": 91,
     "metadata": {},
     "output_type": "execute_result"
    }
   ],
   "source": [
    "params"
   ]
  },
  {
   "cell_type": "code",
   "execution_count": 56,
   "metadata": {
    "collapsed": false
   },
   "outputs": [
    {
     "data": {
      "text/plain": [
       "3609.8137849084533"
      ]
     },
     "execution_count": 56,
     "metadata": {},
     "output_type": "execute_result"
    }
   ],
   "source": [
    "g1.GetParameters()[0]"
   ]
  },
  {
   "cell_type": "code",
   "execution_count": 71,
   "metadata": {
    "collapsed": false
   },
   "outputs": [
    {
     "data": {
      "text/plain": [
       "649752.83033860673"
      ]
     },
     "execution_count": 71,
     "metadata": {},
     "output_type": "execute_result"
    }
   ],
   "source": [
    "np.poly1d(params)(180)"
   ]
  },
  {
   "cell_type": "code",
   "execution_count": 90,
   "metadata": {
    "collapsed": false
   },
   "outputs": [
    {
     "name": "stdout",
     "output_type": "stream",
     "text": [
      "109809532.868\n"
     ]
    }
   ],
   "source": [
    "print(np.poly1d(params)(100))"
   ]
  },
  {
   "cell_type": "code",
   "execution_count": null,
   "metadata": {
    "collapsed": true
   },
   "outputs": [],
   "source": [
    "\n"
   ]
  }
 ],
 "metadata": {
  "kernelspec": {
   "display_name": "Python 2",
   "language": "python",
   "name": "python2"
  },
  "language_info": {
   "codemirror_mode": {
    "name": "ipython",
    "version": 2
   },
   "file_extension": ".py",
   "mimetype": "text/x-python",
   "name": "python",
   "nbconvert_exporter": "python",
   "pygments_lexer": "ipython2",
   "version": "2.7.9"
  }
 },
 "nbformat": 4,
 "nbformat_minor": 1
}
