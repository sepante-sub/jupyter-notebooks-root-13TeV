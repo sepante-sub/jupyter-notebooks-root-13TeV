{
 "cells": [
  {
   "cell_type": "markdown",
   "metadata": {},
   "source": [
    "<CENTER><img src=\"http://opendata.atlas.cern/DataAndTools/pictures/ATLASOD.gif\" style=\"width:50%\"></CENTER>"
   ]
  },
  {
   "cell_type": "markdown",
   "metadata": {},
   "source": [
    "<CENTER><h1>Searching for the Higgs boson in the H&#8594;&gamma;&gamma; channel</h1></CENTER>\n",
    "## Python notebook example"
   ]
  },
  {
   "cell_type": "markdown",
   "metadata": {},
   "source": [
    "**Introduction**\n",
    "Let's take a current ATLAS Open Data sample and create a histogram:"
   ]
  },
  {
   "cell_type": "code",
   "execution_count": 135,
   "metadata": {
    "collapsed": false
   },
   "outputs": [],
   "source": [
    "import ROOT\n",
    "from ROOT import TMath\n",
    "import time\n",
    "\n",
    "from ROOT import TCanvas, TFile, TPaveText, TGraphErrors\n",
    "from ROOT import gROOT, gBenchmark\n",
    "\n",
    "\n",
    "\n",
    "from array import array"
   ]
  },
  {
   "cell_type": "code",
   "execution_count": 136,
   "metadata": {
    "collapsed": false
   },
   "outputs": [],
   "source": [
    "start = time.time()"
   ]
  },
  {
   "cell_type": "markdown",
   "metadata": {},
   "source": [
    "Because we would like to use more than one ROOT input file, the best option is to use a TChain object. This allows to \"chain\" several samples into a single structure that we can later loop over"
   ]
  },
  {
   "cell_type": "code",
   "execution_count": 137,
   "metadata": {
    "collapsed": false,
    "scrolled": true
   },
   "outputs": [],
   "source": [
    "f = ROOT.TFile.Open(\"http://opendata.atlas.cern/release/samples/2019/GamGam/Data/dataA_yy.root\")\n",
    "    #(\"Data/dataA_yy.root\")\n",
    "    #(\"Data/dataB_yy.root\")\n",
    "    #(\"Data/dataC_yy.root\")\n",
    "    #(\"Data/dataD_yy.root\")"
   ]
  },
  {
   "cell_type": "code",
   "execution_count": 138,
   "metadata": {
    "collapsed": false
   },
   "outputs": [
    {
     "name": "stderr",
     "output_type": "stream",
     "text": [
      "TCanvas::Constructor:0: RuntimeWarning: Deleting canvas with same name: Canvas\n"
     ]
    }
   ],
   "source": [
    "canvas = ROOT.TCanvas(\"Canvas\",\"cz\",1000,1000)"
   ]
  },
  {
   "cell_type": "code",
   "execution_count": 139,
   "metadata": {
    "collapsed": false
   },
   "outputs": [],
   "source": [
    "tree = f.Get(\"mini\")"
   ]
  },
  {
   "cell_type": "markdown",
   "metadata": {},
   "source": [
    "Now we're going to extract the photons variables"
   ]
  },
  {
   "cell_type": "code",
   "execution_count": 140,
   "metadata": {
    "collapsed": false
   },
   "outputs": [],
   "source": [
    "#Invariant mass histograms definition\n",
    "hist = ROOT.TH1F(\"h_M_Hyy\",\"Invariant Mass of di-photon system ; Invariant Mass m_{yy} [GeV] ; events\",50,80,280)"
   ]
  },
  {
   "cell_type": "markdown",
   "metadata": {},
   "source": [
    "Here we're filling the variables defined above with the content of those inside the input ntuples"
   ]
  },
  {
   "cell_type": "markdown",
   "metadata": {},
   "source": [
    "We're creating a histogram for this example. The plan in to fill them with events."
   ]
  },
  {
   "cell_type": "markdown",
   "metadata": {},
   "source": [
    "We are selecting below a simple look for them."
   ]
  },
  {
   "cell_type": "markdown",
   "metadata": {},
   "source": [
    "The Higgs boson analysis implemented here considers Higgs boson decays into a proton-proton pair. The event selection criteria are:"
   ]
  },
  {
   "cell_type": "code",
   "execution_count": 221,
   "metadata": {
    "collapsed": false,
    "scrolled": false
   },
   "outputs": [
    {
     "name": "stderr",
     "output_type": "stream",
     "text": [
      "TCanvas::Constructor:0: RuntimeWarning: Deleting canvas with same name: Canvas\n",
      "TWebFile::Append:0: RuntimeWarning: Replacing existing TH1: h_M_Hyy (Potential memory leak).\n"
     ]
    },
    {
     "name": "stdout",
     "output_type": "stream",
     "text": [
      "0\n",
      "100000\n"
     ]
    }
   ],
   "source": [
    "canvas = ROOT.TCanvas(\"Canvas\",\"cz\",1000,1000)\n",
    "tree = f.Get(\"mini\")\n",
    "hist = ROOT.TH1F(\"h_M_Hyy\",\"Invariant Mass of di-photon system ; Invariant Mass m_{yy} [GeV] ; events\",50,80,280)\n",
    "\n",
    "n_read = 100000\n",
    "\n",
    "Photon_1 = ROOT.TLorentzVector()\n",
    "Photon_2 = ROOT.TLorentzVector()\n",
    "#n = 0\n",
    "for n, event in enumerate(tree):\n",
    "    #####n += 1\n",
    "    ## printing the evolution in number of events\n",
    "    #if(n % (n_read / 500) == 0):\n",
    "    if(n % 100000 == 0):\n",
    "        print(n)\n",
    "    if( n > n_read ):\n",
    "        break\n",
    "    ## checking the trigger    \n",
    "    if(tree.trigP):\n",
    "        goodphoton_index = [0]*5\n",
    "        goodphoton_n = 0\n",
    "        photon_index = 0\n",
    "        ##            \n",
    "        j=0\n",
    "        ## looping the photons per event\n",
    "        for j in range(tree.photon_n):\n",
    "            ##\n",
    "            if(tree.photon_isTightID[j]):\n",
    "                ##\n",
    "                if(tree.photon_pt[j] > 25000 and (TMath.Abs(tree.photon_eta[j]) < 2.37)\\\n",
    "                   and (TMath.Abs(tree.photon_eta[j]) < 1.37 or TMath.Abs(tree.photon_eta[j]) > 1.52)):\n",
    "                    ##\n",
    "                    goodphoton_n += 1  #count\n",
    "                    goodphoton_index[photon_index]=j\n",
    "                    photon_index += 1\n",
    "                ## end Pt and eta pre-selection\n",
    "            ## end on request of quality of the photon\n",
    "        ## end looping photons in the current event\n",
    "            \n",
    "        ## Using the two selected photons\n",
    "        if(goodphoton_n==2):\n",
    "            ##\n",
    "            goodphoton1_index = goodphoton_index[0]\n",
    "            goodphoton2_index = goodphoton_index[1]\n",
    "            ## Getting couple of photons with good isolation \n",
    "            if((tree.photon_ptcone30[goodphoton1_index]/tree.photon_pt[goodphoton1_index] < 0.065)\\\n",
    "               and (tree.photon_etcone20[goodphoton1_index] / tree.photon_pt[goodphoton1_index] < 0.065)):\n",
    "                ##\n",
    "                if((tree.photon_ptcone30[goodphoton2_index]/tree.photon_pt[goodphoton2_index] < 0.065)\\\n",
    "                   and (tree.photon_etcone20[goodphoton2_index] / tree.photon_pt[goodphoton2_index] < 0.065)):\n",
    "                    ##\n",
    "                    Photon_1.SetPtEtaPhiE(tree.photon_pt[goodphoton1_index]/1000., tree.photon_eta[goodphoton1_index],\\\n",
    "                                          tree.photon_phi[goodphoton1_index],tree.photon_E[goodphoton1_index]/1000.)\n",
    "                    Photon_2.SetPtEtaPhiE(tree.photon_pt[goodphoton2_index]/1000., tree.photon_eta[goodphoton2_index],\\\n",
    "                                          tree.photon_phi[goodphoton2_index],tree.photon_E[goodphoton2_index]/1000.)\n",
    "                    ## Adding the two TLorentz vectors\n",
    "                    Photon_12 = Photon_1 + Photon_2\n",
    "                    ## Filling with the mass of the gamma-gamma system\n",
    "                    hist.Fill(Photon_12.M())\n",
    "                ## end isolation photon #2\n",
    "            ## end isolation photon #1\n",
    "        ## end 2-good photons\n",
    "    ## end of trigger request\n",
    "## End loop in the events\n",
    "\n",
    "\n",
    "#hist.Draw()\n",
    "#canvas.Draw()"
   ]
  },
  {
   "cell_type": "markdown",
   "metadata": {},
   "source": [
    "#### Final plot"
   ]
  },
  {
   "cell_type": "markdown",
   "metadata": {},
   "source": [
    "#### Log Scale"
   ]
  },
  {
   "cell_type": "code",
   "execution_count": 233,
   "metadata": {
    "collapsed": false
   },
   "outputs": [
    {
     "ename": "NameError",
     "evalue": "name 'TF1' is not defined",
     "output_type": "error",
     "traceback": [
      "\u001b[0;31m---------------------------------------------------------------------------\u001b[0m",
      "\u001b[0;31mNameError\u001b[0m                                 Traceback (most recent call last)",
      "\u001b[0;32m<ipython-input-233-4212cd5cb82d>\u001b[0m in \u001b[0;36m<module>\u001b[0;34m()\u001b[0m\n\u001b[0;32m----> 1\u001b[0;31m \u001b[0mg1\u001b[0m \u001b[0;34m=\u001b[0m \u001b[0mTF1\u001b[0m\u001b[0;34m(\u001b[0m \u001b[0;34m'g1'\u001b[0m\u001b[0;34m,\u001b[0m \u001b[0;34m'gaus'\u001b[0m\u001b[0;34m,\u001b[0m  \u001b[0;36m85\u001b[0m\u001b[0;34m,\u001b[0m  \u001b[0;36m95\u001b[0m \u001b[0;34m)\u001b[0m\u001b[0;34m\u001b[0m\u001b[0m\n\u001b[0m",
      "\u001b[0;31mNameError\u001b[0m: name 'TF1' is not defined"
     ]
    }
   ],
   "source": [
    "g1 = TF1( 'g1', 'gaus',  85,  95 )\n"
   ]
  },
  {
   "cell_type": "code",
   "execution_count": 370,
   "metadata": {
    "collapsed": false
   },
   "outputs": [
    {
     "data": {
      "image/png": "[encoded data removed]",
      "text/plain": [
       "<IPython.core.display.Image object>"
      ]
     },
     "metadata": {},
     "output_type": "display_data"
    }
   ],
   "source": [
    "#fitResultPtr2 = hist.Fit('gaus')\n",
    "specific_range = (105,  160)\n",
    "g1 = TF1( 'g1', 'pol2',  specific_range[0],  specific_range[1] )\n",
    "#fitResultPtr = hist.Fit(\"pol3\",\"S\")\n",
    "#fitResultPtr2 = hist.Fit(\"gaus\",\"S\")\n",
    "\n",
    "#hist.Fit( g1, 'gaus' )\n",
    "hist.Fit( g1, 'R' )\n",
    "#hist.Fit( g1, 'pol1' )\n",
    "\n",
    "#chi2_nparams = (fitResultPtr.Chi2(), fitResultPtr.NFreeParameters())\n",
    "#print \"The final Chi2 value was %.2f and the number of free parameters was %d\" %chi2_nparams\n",
    "#fitResultPtr.Draw()\n",
    "#fitResultPtr2.Draw()\n",
    "g1.GetParameters()\n",
    "#g1.Draw()\n",
    "hist.SetAxisRange(specific_range[0],  specific_range[1])\n",
    "\n",
    "canvas.Draw()\n",
    "\n"
   ]
  },
  {
   "cell_type": "code",
   "execution_count": 364,
   "metadata": {
    "collapsed": false
   },
   "outputs": [],
   "source": [
    "param0, param1, param2 = g1.GetParameters()[0], g1.GetParameters()[1], g1.GetParameters()[2]"
   ]
  },
  {
   "cell_type": "code",
   "execution_count": 365,
   "metadata": {
    "collapsed": false
   },
   "outputs": [],
   "source": [
    "def fitFunc(x):\n",
    "    return (x**2)*param2 + (x**1)*param1 + param0"
   ]
  },
  {
   "cell_type": "code",
   "execution_count": 366,
   "metadata": {
    "collapsed": false
   },
   "outputs": [
    {
     "data": {
      "text/plain": [
       "65.31966888559714"
      ]
     },
     "execution_count": 366,
     "metadata": {},
     "output_type": "execute_result"
    }
   ],
   "source": [
    "fitResultPtr(140)"
   ]
  },
  {
   "cell_type": "code",
   "execution_count": 367,
   "metadata": {
    "collapsed": false
   },
   "outputs": [
    {
     "data": {
      "text/plain": [
       "<ROOT.TFitResultPtr object at 0x97b96b0>"
      ]
     },
     "execution_count": 367,
     "metadata": {},
     "output_type": "execute_result"
    }
   ],
   "source": [
    "hist.Fit(\"pol3\",\"S\")"
   ]
  },
  {
   "cell_type": "code",
   "execution_count": 368,
   "metadata": {
    "collapsed": false
   },
   "outputs": [
    {
     "name": "stderr",
     "output_type": "stream",
     "text": [
      "TCanvas::Constructor:0: RuntimeWarning: Deleting canvas with same name: Canvas2\n",
      "TWebFile::Append:0: RuntimeWarning: Replacing existing TH1: net (Potential memory leak).\n"
     ]
    },
    {
     "data": {
      "image/png": "[encoded data removed]",
      "text/plain": [
       "<IPython.core.display.Image object>"
      ]
     },
     "metadata": {},
     "output_type": "display_data"
    }
   ],
   "source": [
    "canvas2 = ROOT.TCanvas(\"Canvas2\",\"cz\",1000,1000)\n",
    "\n",
    "net = TH1F(\"net\",\"\",hist.GetNbinsX(),80,280)\n",
    "for i in range(1,hist.GetNbinsX()+1):\n",
    "    x=hist.GetBinCenter(i)\n",
    "    y=fitFunc(x)    \n",
    "    net.SetBinContent(i,hist.GetBinContent(i)-y)\n",
    "    #print(net.SetBinContent(i,hist.GetBinContent(i)-y))\n",
    "    #print(hist.GetBinContent(i)-y)\n",
    "    net.SetBinContent(1,1)\n",
    "net.Draw()\n",
    "net.SetAxisRange(specific_range[0],  specific_range[1])\n",
    "\n",
    "\n",
    "\n",
    "canvas2.Draw()"
   ]
  },
  {
   "cell_type": "code",
   "execution_count": 42,
   "metadata": {
    "collapsed": false
   },
   "outputs": [
    {
     "data": {
      "text/plain": [
       "(23.240602734692636, 3L)"
      ]
     },
     "execution_count": 42,
     "metadata": {},
     "output_type": "execute_result"
    }
   ],
   "source": [
    "chi2_nparams[0], chi2_nparams[1]"
   ]
  },
  {
   "cell_type": "code",
   "execution_count": 133,
   "metadata": {
    "collapsed": false
   },
   "outputs": [
    {
     "data": {
      "text/plain": [
       "<ROOT.TFitResultPtr object at 0x697e610>"
      ]
     },
     "execution_count": 133,
     "metadata": {},
     "output_type": "execute_result"
    }
   ],
   "source": [
    "fitResultPtr"
   ]
  },
  {
   "cell_type": "code",
   "execution_count": 307,
   "metadata": {
    "collapsed": false
   },
   "outputs": [
    {
     "name": "stderr",
     "output_type": "stream",
     "text": [
      "TCanvas::Constructor:0: RuntimeWarning: Deleting canvas with same name: c2\n"
     ]
    },
    {
     "data": {
      "image/png": "[encoded data removed]",
      "text/plain": [
       "<IPython.core.display.Image object>"
      ]
     },
     "metadata": {},
     "output_type": "display_data"
    }
   ],
   "source": [
    "c2 = TCanvas( 'c2', 'A Simple Graph with error bars', 200, 10, 700, 500 )\n",
    "c2.SetGrid()\n",
    "#c2.GetFrame().SetFillColor( 21 )\n",
    "#c2.GetFrame().SetBorderSize( 12 )\n",
    "n = 10;\n",
    "array([])\n",
    "x  = array( 'f', [ -0.22, 0.05, 0.25, 0.35,  0.5, 0.61,  0.7, 0.85, 0.89, 0.95 ] )\n",
    "ex = array( 'f', [ 0,  0, 0, 0, 0, 0, 0, 0, 0, 0] )\n",
    "y  = array( 'f', [     1,  2.9,  5.6,  7.4,  9.0,  9.6,  8.7,  6.3,  4.5,    1 ] )\n",
    "ey = array( 'f', [  0.8,  0.7,  0.6,  0.5,  0.4,  0.4,  0.5,  0.6,  0.7,  0.8  ] )\n",
    "gr = TGraphErrors( n, x, y, ex, ey )\n",
    "gr.SetTitle( 'TGraphErrors Example' )\n",
    "gr.SetMarkerColor( 2 )\n",
    "gr.SetMarkerStyle( 20 )\n",
    "gr.Draw( 'ALP' )\n",
    "#c2.Update()\n",
    "c2.Draw()"
   ]
  },
  {
   "cell_type": "code",
   "execution_count": 246,
   "metadata": {
    "collapsed": false
   },
   "outputs": [
    {
     "name": "stderr",
     "output_type": "stream",
     "text": [
      "TWebFile::Append:0: RuntimeWarning: Replacing existing TH1: h (Potential memory leak).\n"
     ]
    }
   ],
   "source": [
    "from ROOT import TH1F, TF1\n",
    "from ROOT import gROOT\n",
    "from array import array\n",
    "x = ( 1.913521, 1.953769, 2.347435, 2.883654, 3.493567,\n",
    "      4.047560, 4.337210, 4.364347, 4.563004, 5.054247,\n",
    "      5.194183, 5.380521, 5.303213, 5.384578, 5.563983,\n",
    "      5.728500, 5.685752, 5.080029, 4.251809, 3.372246,\n",
    "      2.207432, 1.227541, 0.8597788,0.8220503,0.8046592,\n",
    "      0.7684097,0.7469761,0.8019787,0.8362375,0.8744895,\n",
    "      0.9143721,0.9462768,0.9285364,0.8954604,0.8410891,\n",
    "      0.7853871,0.7100883,0.6938808,0.7363682,0.7032954,\n",
    "      0.6029015,0.5600163,0.7477068,1.188785, 1.938228,\n",
    "      2.602717, 3.472962, 4.465014, 5.177035 )\n",
    "np = len(x)\n",
    "h = TH1F( 'h', 'Example of several fits in subranges', np, 85, 134 )\n",
    "h.SetMaximum( 7 )\n",
    "for i in range(np):\n",
    "   h.SetBinContent( i+1, x[i] )\n",
    "par = array( 'd', 9*[0.] )\n",
    "g1 = TF1( 'g1', 'gaus',  85,  95 )\n",
    "g2 = TF1( 'g2', 'gaus',  98, 108 )\n",
    "g3 = TF1( 'g3', 'gaus', 110, 121 )\n",
    "total = TF1( 'total', 'gaus(0)+gaus(3)+gaus(6)', 85, 125 )\n",
    "total.SetLineColor( 2 )\n",
    "h.Fit( g1, 'S' )\n",
    "h.Fit( g2, 'S' )\n",
    "h.Fit( g3, 'S')\n",
    "par1 = g1.GetParameters()\n",
    "par2 = g2.GetParameters()\n",
    "par3 = g3.GetParameters()\n",
    "par[0], par[1], par[2] = par1[0], par1[1], par1[2]\n",
    "par[3], par[4], par[5] = par2[0], par2[1], par2[2]\n",
    "par[6], par[7], par[8] = par3[0], par3[1], par3[2]\n",
    "total.SetParameters( par )\n",
    "h.Fit( total, 'S' )\n",
    "h.Draw()"
   ]
  },
  {
   "cell_type": "code",
   "execution_count": 243,
   "metadata": {
    "collapsed": false
   },
   "outputs": [
    {
     "name": "stderr",
     "output_type": "stream",
     "text": [
      "\r\n",
      "\"h\" is of pointer type. Use this operator: ->\r\n",
      "\r\n",
      "variable \"h.D\" not defined.\r\n"
     ]
    }
   ],
   "source": [
    "h.Draw()"
   ]
  },
  {
   "cell_type": "code",
   "execution_count": null,
   "metadata": {
    "collapsed": true
   },
   "outputs": [],
   "source": []
  }
 ],
 "metadata": {
  "kernelspec": {
   "display_name": "Python 2",
   "language": "python",
   "name": "python2"
  },
  "language_info": {
   "codemirror_mode": {
    "name": "ipython",
    "version": 2
   },
   "file_extension": ".py",
   "mimetype": "text/x-python",
   "name": "python",
   "nbconvert_exporter": "python",
   "pygments_lexer": "ipython2",
   "version": "2.7.9"
  }
 },
 "nbformat": 4,
 "nbformat_minor": 1
}
