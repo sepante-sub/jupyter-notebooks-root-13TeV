{
 "cells": [
  {
   "cell_type": "markdown",
   "metadata": {},
   "source": [
    "<CENTER><img src=\"http://opendata.atlas.cern/DataAndTools/pictures/ATLASOD.gif\" style=\"width:50%\"></CENTER>"
   ]
  },
  {
   "cell_type": "markdown",
   "metadata": {},
   "source": [
    "<CENTER><h1>Searching for the Higgs boson in the H&#8594;&gamma;&gamma; channel</h1></CENTER>\n",
    "## Python notebook example"
   ]
  },
  {
   "cell_type": "markdown",
   "metadata": {},
   "source": [
    "**Introduction**\n",
    "Let's take a current ATLAS Open Data sample and create a histogram:"
   ]
  },
  {
   "cell_type": "code",
   "execution_count": 108,
   "metadata": {
    "collapsed": false
   },
   "outputs": [],
   "source": [
    "import ROOT\n",
    "from ROOT import TMath\n",
    "import time\n",
    "from ROOT import TCanvas, TFile, TPaveText, TGraphErrors, TPad, TF1, TH1F\n",
    "from ROOT import gROOT, gBenchmark\n",
    "from array import array"
   ]
  },
  {
   "cell_type": "code",
   "execution_count": 109,
   "metadata": {
    "collapsed": false
   },
   "outputs": [],
   "source": [
    "start = time.time()"
   ]
  },
  {
   "cell_type": "markdown",
   "metadata": {},
   "source": [
    "Because we would like to use more than one ROOT input file, the best option is to use a TChain object. This allows to \"chain\" several samples into a single structure that we can later loop over"
   ]
  },
  {
   "cell_type": "code",
   "execution_count": 120,
   "metadata": {
    "collapsed": false
   },
   "outputs": [
    {
     "name": "stderr",
     "output_type": "stream",
     "text": [
      "TCanvas::Constructor:0: RuntimeWarning: Deleting canvas with same name: Canvas\n",
      "TWebFile::Append:0: RuntimeWarning: Replacing existing TH1: h_M_Hyy (Potential memory leak).\n"
     ]
    },
    {
     "name": "stdout",
     "output_type": "stream",
     "text": [
      "0\n"
     ]
    }
   ],
   "source": [
    "canvas = ROOT.TCanvas(\"Canvas\",\"cz\",1000,1000)\n",
    "canvas.cd()\n",
    "\n",
    "n_bins = 50\n",
    "\n",
    "\n",
    "#pad1.cd()\n",
    "\n",
    "tree = f.Get(\"mini\")\n",
    "hist = ROOT.TH1F(\"h_M_Hyy\",\"Invariant Mass of di-photon system ; Invariant Mass m_{yy} [GeV] ; events\",n_bins,80,280)\n",
    "\n",
    "n_read = 10000\n",
    "\n",
    "Photon_1 = ROOT.TLorentzVector()\n",
    "Photon_2 = ROOT.TLorentzVector()\n",
    "#n = 0\n",
    "for n, event in enumerate(tree):\n",
    "    #####n += 1\n",
    "    ## printing the evolution in number of events\n",
    "    #if(n % (n_read / 500) == 0):\n",
    "    if(n % 100000 == 0):\n",
    "        print(n)\n",
    "    if( n > n_read ):\n",
    "        break\n",
    "    ## checking the trigger    \n",
    "    if(tree.trigP):\n",
    "        goodphoton_index = [0]*5\n",
    "        goodphoton_n = 0\n",
    "        photon_index = 0\n",
    "        ##            \n",
    "        j=0\n",
    "        ## looping the photons per event\n",
    "        for j in range(tree.photon_n):\n",
    "            ##\n",
    "            if(tree.photon_isTightID[j]):\n",
    "                ##\n",
    "                if(tree.photon_pt[j] > 25000 and (TMath.Abs(tree.photon_eta[j]) < 2.37)\\\n",
    "                   and (TMath.Abs(tree.photon_eta[j]) < 1.37 or TMath.Abs(tree.photon_eta[j]) > 1.52)):\n",
    "                    ##\n",
    "                    goodphoton_n += 1  #count\n",
    "                    goodphoton_index[photon_index]=j\n",
    "                    photon_index += 1\n",
    "                ## end Pt and eta pre-selection\n",
    "            ## end on request of quality of the photon\n",
    "        ## end looping photons in the current event\n",
    "            \n",
    "        ## Using the two selected photons\n",
    "        if(goodphoton_n==2):\n",
    "            ##\n",
    "            goodphoton1_index = goodphoton_index[0]\n",
    "            goodphoton2_index = goodphoton_index[1]\n",
    "            ## Getting couple of photons with good isolation \n",
    "            if((tree.photon_ptcone30[goodphoton1_index]/tree.photon_pt[goodphoton1_index] < 0.065)\\\n",
    "               and (tree.photon_etcone20[goodphoton1_index] / tree.photon_pt[goodphoton1_index] < 0.065)):\n",
    "                ##\n",
    "                if((tree.photon_ptcone30[goodphoton2_index]/tree.photon_pt[goodphoton2_index] < 0.065)\\\n",
    "                   and (tree.photon_etcone20[goodphoton2_index] / tree.photon_pt[goodphoton2_index] < 0.065)):\n",
    "                    ##\n",
    "                    Photon_1.SetPtEtaPhiE(tree.photon_pt[goodphoton1_index]/1000., tree.photon_eta[goodphoton1_index],\\\n",
    "                                          tree.photon_phi[goodphoton1_index],tree.photon_E[goodphoton1_index]/1000.)\n",
    "                    Photon_2.SetPtEtaPhiE(tree.photon_pt[goodphoton2_index]/1000., tree.photon_eta[goodphoton2_index],\\\n",
    "                                          tree.photon_phi[goodphoton2_index],tree.photon_E[goodphoton2_index]/1000.)\n",
    "                    ## Adding the two TLorentz vectors\n",
    "                    Photon_12 = Photon_1 + Photon_2\n",
    "                    ## Filling with the mass of the gamma-gamma system\n",
    "                    hist.Fill(Photon_12.M())\n",
    "                ## end isolation photon #2\n",
    "            ## end isolation photon #1\n",
    "        ## end 2-good photons\n",
    "    ## end of trigger request\n",
    "## End loop in the events\n",
    "\n",
    "hist.Draw()\n",
    "#canvas.Draw()\n"
   ]
  },
  {
   "cell_type": "code",
   "execution_count": 121,
   "metadata": {
    "collapsed": false,
    "scrolled": false
   },
   "outputs": [
    {
     "name": "stderr",
     "output_type": "stream",
     "text": [
      "TCanvas::Constructor:0: RuntimeWarning: Deleting canvas with same name: Canvas\n",
      "TWebFile::Append:0: RuntimeWarning: Replacing existing TH1: h_M_Hyy (Potential memory leak).\n"
     ]
    },
    {
     "name": "stdout",
     "output_type": "stream",
     "text": [
      "0\n",
      "0\n"
     ]
    },
    {
     "data": {
      "image/png": "[encoded data removed]",
      "text/plain": [
       "<IPython.core.display.Image object>"
      ]
     },
     "metadata": {},
     "output_type": "display_data"
    }
   ],
   "source": [
    "canvas = ROOT.TCanvas(\"Canvas\",\"cz\",1000,1000)\n",
    "canvas.cd()\n",
    "\n",
    "n_bins = 50\n",
    "\n",
    "pad1 = TPad( 'pad2', 'The pad with the histogram', 0.03, 0, 0.97, 0.25, 21 )\n",
    "pad2 = TPad( 'pad1', 'The pad with the function',  0.03, 0.30, 0.97, 0.55, 21 )\n",
    "pad3 = TPad( 'pad3', 'The pad with the histogram', 0.03, 0.60, 0.97, 0.85, 21 )\n",
    "\n",
    "pad1.Draw()\n",
    "pad2.Draw()\n",
    "pad3.Draw()\n",
    "\n",
    "#pad1.cd()\n",
    "\n",
    "tree = f.Get(\"mini\")\n",
    "hist = ROOT.TH1F(\"h_M_Hyy\",\"Invariant Mass of di-photon system ; Invariant Mass m_{yy} [GeV] ; events\",n_bins,80,280)\n",
    "\n",
    "n_read = 10000\n",
    "\n",
    "Photon_1 = ROOT.TLorentzVector()\n",
    "Photon_2 = ROOT.TLorentzVector()\n",
    "#n = 0\n",
    "for n, event in enumerate(tree):\n",
    "    #####n += 1\n",
    "    ## printing the evolution in number of events\n",
    "    #if(n % (n_read / 500) == 0):\n",
    "    if(n % 100000 == 0):\n",
    "        print(n)\n",
    "    if( n > n_read ):\n",
    "        break\n",
    "    ## checking the trigger    \n",
    "    if(tree.trigP):\n",
    "        goodphoton_index = [0]*5\n",
    "        goodphoton_n = 0\n",
    "        photon_index = 0\n",
    "        ##            \n",
    "        j=0\n",
    "        ## looping the photons per event\n",
    "        for j in range(tree.photon_n):\n",
    "            ##\n",
    "            if(tree.photon_isTightID[j]):\n",
    "                ##\n",
    "                if(tree.photon_pt[j] > 25000 and (TMath.Abs(tree.photon_eta[j]) < 2.37)\\\n",
    "                   and (TMath.Abs(tree.photon_eta[j]) < 1.37 or TMath.Abs(tree.photon_eta[j]) > 1.52)):\n",
    "                    ##\n",
    "                    goodphoton_n += 1  #count\n",
    "                    goodphoton_index[photon_index]=j\n",
    "                    photon_index += 1\n",
    "                ## end Pt and eta pre-selection\n",
    "            ## end on request of quality of the photon\n",
    "        ## end looping photons in the current event\n",
    "            \n",
    "        ## Using the two selected photons\n",
    "        if(goodphoton_n==2):\n",
    "            ##\n",
    "            goodphoton1_index = goodphoton_index[0]\n",
    "            goodphoton2_index = goodphoton_index[1]\n",
    "            ## Getting couple of photons with good isolation \n",
    "            if((tree.photon_ptcone30[goodphoton1_index]/tree.photon_pt[goodphoton1_index] < 0.065)\\\n",
    "               and (tree.photon_etcone20[goodphoton1_index] / tree.photon_pt[goodphoton1_index] < 0.065)):\n",
    "                ##\n",
    "                if((tree.photon_ptcone30[goodphoton2_index]/tree.photon_pt[goodphoton2_index] < 0.065)\\\n",
    "                   and (tree.photon_etcone20[goodphoton2_index] / tree.photon_pt[goodphoton2_index] < 0.065)):\n",
    "                    ##\n",
    "                    Photon_1.SetPtEtaPhiE(tree.photon_pt[goodphoton1_index]/1000., tree.photon_eta[goodphoton1_index],\\\n",
    "                                          tree.photon_phi[goodphoton1_index],tree.photon_E[goodphoton1_index]/1000.)\n",
    "                    Photon_2.SetPtEtaPhiE(tree.photon_pt[goodphoton2_index]/1000., tree.photon_eta[goodphoton2_index],\\\n",
    "                                          tree.photon_phi[goodphoton2_index],tree.photon_E[goodphoton2_index]/1000.)\n",
    "                    ## Adding the two TLorentz vectors\n",
    "                    Photon_12 = Photon_1 + Photon_2\n",
    "                    ## Filling with the mass of the gamma-gamma system\n",
    "                    hist.Fill(Photon_12.M())\n",
    "                ## end isolation photon #2\n",
    "            ## end isolation photon #1\n",
    "        ## end 2-good photons\n",
    "    ## end of trigger request\n",
    "## End loop in the events\n",
    "\n",
    "hist.Draw()\n",
    "#canvas.Draw()\n",
    "\n",
    "\n",
    "#pad2.cd()\n",
    "\n",
    "md_data = ROOT.TFile.Open(\"http://opendata.atlas.cern/release/samples/2019/GamGam/MC/mc15_13TeV.343981.PwPy8EG_NNLOPS_nnlo_30_ggH125_gamgam.gamgam_raw.root\")\n",
    "tree2 = md_data.Get(\"mini\")\n",
    "hist2 = ROOT.TH1F(\"h_M_Hyy\",\"Invariant Mass of di-photon system ; Invariant Mass m_{yy} [GeV] ; events\",n_bins,80,280)\n",
    "\n",
    "\n",
    "Photon_1 = ROOT.TLorentzVector()\n",
    "Photon_2 = ROOT.TLorentzVector()\n",
    "#n = 0\n",
    "for n, event in enumerate(tree2):\n",
    "    #####n += 1\n",
    "    ## printing the evolution in number of events\n",
    "    #if(n % (n_read / 500) == 0):\n",
    "    if(n % 100000 == 0):\n",
    "        print(n)\n",
    "    if( n > n_read ):\n",
    "        break\n",
    "    ## checking the trigger    \n",
    "    if(tree2.trigP):\n",
    "        goodphoton_index = [0]*5\n",
    "        goodphoton_n = 0\n",
    "        photon_index = 0\n",
    "        ##            \n",
    "        j=0\n",
    "        ## looping the photons per event\n",
    "        for j in range(tree2.photon_n):\n",
    "            ##\n",
    "            if(tree2.photon_isTightID[j]):\n",
    "                ##\n",
    "                if(tree2.photon_pt[j] > 25000 and (TMath.Abs(tree2.photon_eta[j]) < 2.37)\\\n",
    "                   and (TMath.Abs(tree2.photon_eta[j]) < 1.37 or TMath.Abs(tree2.photon_eta[j]) > 1.52)):\n",
    "                    ##\n",
    "                    goodphoton_n += 1  #count\n",
    "                    goodphoton_index[photon_index]=j\n",
    "                    photon_index += 1\n",
    "                ## end Pt and eta pre-selection\n",
    "            ## end on request of quality of the photon\n",
    "        ## end looping photons in the current event\n",
    "            \n",
    "        ## Using the two selected photons\n",
    "        if(goodphoton_n==2):\n",
    "            ##\n",
    "            goodphoton1_index = goodphoton_index[0]\n",
    "            goodphoton2_index = goodphoton_index[1]\n",
    "            ## Getting couple of photons with good isolation \n",
    "            if((tree2.photon_ptcone30[goodphoton1_index]/tree2.photon_pt[goodphoton1_index] < 0.065)\\\n",
    "               and (tree2.photon_etcone20[goodphoton1_index] / tree2.photon_pt[goodphoton1_index] < 0.065)):\n",
    "                ##\n",
    "                if((tree2.photon_ptcone30[goodphoton2_index]/tree2.photon_pt[goodphoton2_index] < 0.065)\\\n",
    "                   and (tree2.photon_etcone20[goodphoton2_index] / tree2.photon_pt[goodphoton2_index] < 0.065)):\n",
    "                    ##\n",
    "                    Photon_1.SetPtEtaPhiE(tree2.photon_pt[goodphoton1_index]/1000., tree2.photon_eta[goodphoton1_index],\\\n",
    "                                          tree2.photon_phi[goodphoton1_index],tree2.photon_E[goodphoton1_index]/1000.)\n",
    "                    Photon_2.SetPtEtaPhiE(tree2.photon_pt[goodphoton2_index]/1000., tree2.photon_eta[goodphoton2_index],\\\n",
    "                                          tree2.photon_phi[goodphoton2_index],tree2.photon_E[goodphoton2_index]/1000.)\n",
    "                    ## Adding the two TLorentz vectors\n",
    "                    Photon_12 = Photon_1 + Photon_2\n",
    "                    ## Filling with the mass of the gamma-gamma system\n",
    "                    hist2.Fill(Photon_12.M())\n",
    "                ## end isolation photon #2\n",
    "            ## end isolation photon #1\n",
    "        ## end 2-good photons\n",
    "    ## end of trigger request\n",
    "## End loop in the events\n",
    "\n",
    "\n",
    "hist2.Draw()\n",
    "canvas.Draw()"
   ]
  },
  {
   "cell_type": "code",
   "execution_count": null,
   "metadata": {
    "collapsed": true
   },
   "outputs": [],
   "source": [
    "for i in hist:"
   ]
  },
  {
   "cell_type": "markdown",
   "metadata": {},
   "source": [
    "#### Final plot"
   ]
  },
  {
   "cell_type": "code",
   "execution_count": 33,
   "metadata": {
    "collapsed": false
   },
   "outputs": [
    {
     "data": {
      "image/png": "[encoded data removed]",
      "text/plain": [
       "<IPython.core.display.Image object>"
      ]
     },
     "metadata": {},
     "output_type": "display_data"
    },
    {
     "name": "stdout",
     "output_type": "stream",
     "text": [
      "\r\n",
      "****************************************\r\n",
      "Minimizer is Linear\r\n",
      "Chi2                      =      28.7539\r\n",
      "NDf                       =           41\r\n",
      "p0                        =      39.4443   +/-   4.27226     \r\n",
      "p1                        =     -0.32154   +/-   0.0452706   \r\n",
      "p2                        =  0.000674511   +/-   0.000115676 \r\n"
     ]
    }
   ],
   "source": [
    "#fitResultPtr2 = hist.Fit('gaus')\n",
    "pad1.cd()\n",
    "\n",
    "#specific_range = (105,  160)\n",
    "specific_range = (80,  280)\n",
    "g1 = TF1( 'g1', 'pol2',  specific_range[0],  specific_range[1] )\n",
    "#fitResultPtr = hist.Fit(\"pol3\",\"S\")\n",
    "#fitResultPtr2 = hist.Fit(\"gaus\",\"S\")\n",
    "\n",
    "#hist.Fit( g1, 'gaus' )\n",
    "hist.Fit( g1, 'R' )\n",
    "#hist.Fit( g1, 'pol1' )\n",
    "\n",
    "#chi2_nparams = (fitResultPtr.Chi2(), fitResultPtr.NFreeParameters())\n",
    "#print \"The final Chi2 value was %.2f and the number of free parameters was %d\" %chi2_nparams\n",
    "#fitResultPtr.Draw()\n",
    "#fitResultPtr2.Draw()\n",
    "g1.GetParameters()\n",
    "#g1.Draw()\n",
    "\n",
    "\n",
    "hist.SetAxisRange(specific_range[0],  specific_range[1])\n",
    "\n",
    "pad2.cd()\n",
    "\n",
    "\n",
    "param0, param1, param2 = g1.GetParameters()[0], g1.GetParameters()[1], g1.GetParameters()[2]\n",
    "\n",
    "def fitFunc(x):\n",
    "    return (x**2)*param2 + (x**1)*param1 + param0\n",
    "\n",
    "net = TH1F(\"net\",\"subtracted\",hist.GetNbinsX(),80,280)\n",
    "for i in range(1,hist.GetNbinsX()+1):\n",
    "    x=hist.GetBinCenter(i)\n",
    "    y=fitFunc(x)    \n",
    "    net.SetBinContent(i,hist.GetBinContent(i)-y)\n",
    "    #print(hist.GetBinContent(i)-y)\n",
    "    #print(hist.GetBinContent(i)-y)\n",
    "    net.SetBinContent(1,1)\n",
    "net.SetAxisRange(specific_range[0],  specific_range[1])\n",
    "net.Draw('E')\n",
    "\n",
    "\n",
    "\n",
    "canvas.Draw()\n",
    "\n"
   ]
  },
  {
   "cell_type": "code",
   "execution_count": 20,
   "metadata": {
    "collapsed": true
   },
   "outputs": [],
   "source": []
  },
  {
   "cell_type": "code",
   "execution_count": null,
   "metadata": {
    "collapsed": true
   },
   "outputs": [],
   "source": []
  },
  {
   "cell_type": "code",
   "execution_count": null,
   "metadata": {
    "collapsed": true
   },
   "outputs": [],
   "source": []
  }
 ],
 "metadata": {
  "kernelspec": {
   "display_name": "Python 2",
   "language": "python",
   "name": "python2"
  },
  "language_info": {
   "codemirror_mode": {
    "name": "ipython",
    "version": 2
   },
   "file_extension": ".py",
   "mimetype": "text/x-python",
   "name": "python",
   "nbconvert_exporter": "python",
   "pygments_lexer": "ipython2",
   "version": "2.7.9"
  }
 },
 "nbformat": 4,
 "nbformat_minor": 1
}
